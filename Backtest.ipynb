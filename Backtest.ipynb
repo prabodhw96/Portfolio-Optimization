{
 "cells": [
  {
   "cell_type": "code",
   "execution_count": 1,
   "metadata": {},
   "outputs": [],
   "source": [
    "import numpy as np\n",
    "import pandas as pd\n",
    "import matplotlib.pyplot as plt\n",
    "plt.style.use(\"ggplot\")\n",
    "from pandas_datareader import data as pdr\n",
    "import yfinance as yf\n",
    "yf.pdr_override() # <== that's all it takes :-)\n",
    "from datetime import date, timedelta\n",
    "from scipy import stats\n",
    "import scipy.optimize as sco\n",
    "import random\n",
    "import warnings\n",
    "warnings.filterwarnings(\"ignore\")"
   ]
  },
  {
   "cell_type": "code",
   "execution_count": 2,
   "metadata": {},
   "outputs": [],
   "source": [
    "symbol = pd.read_csv(\"nasdaq_stocks.csv\")\n",
    "symbol_dict = dict(zip(symbol[\"Name\"], symbol[\"Symbol\"]))\n",
    "#stocks = [\"Apple Inc.\", \"Amazon.com Inc.\", \"Alphabet Inc.\", \"Netflix Inc.\", \"Tesla Inc.\"]\n",
    "stocks = random.sample(list(symbol_dict.keys()), 10)\n",
    "stocks = [symbol_dict[i] for i in stocks]"
   ]
  },
  {
   "cell_type": "code",
   "execution_count": 3,
   "metadata": {},
   "outputs": [
    {
     "data": {
      "text/plain": [
       "['ALRS', 'DKL', 'KRNT', 'MTH', 'MYD', 'POOL', 'RSG']"
      ]
     },
     "execution_count": 3,
     "metadata": {},
     "output_type": "execute_result"
    }
   ],
   "source": [
    "stocks = ['ALRS', 'DKL', 'KRNT', 'MTH', 'MYD', 'POOL', 'RSG']\n",
    "stocks"
   ]
  },
  {
   "cell_type": "code",
   "execution_count": 4,
   "metadata": {},
   "outputs": [
    {
     "name": "stdout",
     "output_type": "stream",
     "text": [
      "[*********************100%***********************]  7 of 7 completed\n"
     ]
    }
   ],
   "source": [
    "data = pdr.get_data_yahoo(stocks, start=date.today()-timedelta(365*6), end=date.today()-timedelta(365))[\"Adj Close\"]"
   ]
  },
  {
   "cell_type": "code",
   "execution_count": 5,
   "metadata": {},
   "outputs": [
    {
     "data": {
      "text/plain": [
       "[]"
      ]
     },
     "execution_count": 5,
     "metadata": {},
     "output_type": "execute_result"
    }
   ],
   "source": [
    "list(set(data.columns) - set(data.dropna(axis=1).columns))"
   ]
  },
  {
   "cell_type": "code",
   "execution_count": 6,
   "metadata": {},
   "outputs": [],
   "source": [
    "data = data.dropna(axis=1)"
   ]
  },
  {
   "cell_type": "code",
   "execution_count": 7,
   "metadata": {},
   "outputs": [
    {
     "data": {
      "text/html": [
       "<div>\n",
       "<style scoped>\n",
       "    .dataframe tbody tr th:only-of-type {\n",
       "        vertical-align: middle;\n",
       "    }\n",
       "\n",
       "    .dataframe tbody tr th {\n",
       "        vertical-align: top;\n",
       "    }\n",
       "\n",
       "    .dataframe thead th {\n",
       "        text-align: right;\n",
       "    }\n",
       "</style>\n",
       "<table border=\"1\" class=\"dataframe\">\n",
       "  <thead>\n",
       "    <tr style=\"text-align: right;\">\n",
       "      <th></th>\n",
       "      <th>ALRS</th>\n",
       "      <th>DKL</th>\n",
       "      <th>KRNT</th>\n",
       "      <th>MTH</th>\n",
       "      <th>MYD</th>\n",
       "      <th>POOL</th>\n",
       "      <th>RSG</th>\n",
       "    </tr>\n",
       "    <tr>\n",
       "      <th>Date</th>\n",
       "      <th></th>\n",
       "      <th></th>\n",
       "      <th></th>\n",
       "      <th></th>\n",
       "      <th></th>\n",
       "      <th></th>\n",
       "      <th></th>\n",
       "    </tr>\n",
       "  </thead>\n",
       "  <tbody>\n",
       "    <tr>\n",
       "      <th>2016-01-19</th>\n",
       "      <td>15.411111</td>\n",
       "      <td>14.550030</td>\n",
       "      <td>10.490000</td>\n",
       "      <td>27.389999</td>\n",
       "      <td>10.927785</td>\n",
       "      <td>70.404472</td>\n",
       "      <td>38.878365</td>\n",
       "    </tr>\n",
       "    <tr>\n",
       "      <th>2016-01-20</th>\n",
       "      <td>15.281966</td>\n",
       "      <td>13.415271</td>\n",
       "      <td>10.510000</td>\n",
       "      <td>27.190001</td>\n",
       "      <td>10.883812</td>\n",
       "      <td>69.954056</td>\n",
       "      <td>37.909737</td>\n",
       "    </tr>\n",
       "    <tr>\n",
       "      <th>2016-01-21</th>\n",
       "      <td>15.540254</td>\n",
       "      <td>13.011558</td>\n",
       "      <td>10.450000</td>\n",
       "      <td>26.860001</td>\n",
       "      <td>10.949774</td>\n",
       "      <td>69.785164</td>\n",
       "      <td>37.500950</td>\n",
       "    </tr>\n",
       "    <tr>\n",
       "      <th>2016-01-22</th>\n",
       "      <td>15.540254</td>\n",
       "      <td>13.393448</td>\n",
       "      <td>11.270000</td>\n",
       "      <td>28.120001</td>\n",
       "      <td>10.957105</td>\n",
       "      <td>71.502319</td>\n",
       "      <td>38.149673</td>\n",
       "    </tr>\n",
       "    <tr>\n",
       "      <th>2016-01-25</th>\n",
       "      <td>15.454163</td>\n",
       "      <td>13.278882</td>\n",
       "      <td>11.370000</td>\n",
       "      <td>27.170000</td>\n",
       "      <td>10.957105</td>\n",
       "      <td>73.163216</td>\n",
       "      <td>37.687569</td>\n",
       "    </tr>\n",
       "    <tr>\n",
       "      <th>...</th>\n",
       "      <td>...</td>\n",
       "      <td>...</td>\n",
       "      <td>...</td>\n",
       "      <td>...</td>\n",
       "      <td>...</td>\n",
       "      <td>...</td>\n",
       "      <td>...</td>\n",
       "    </tr>\n",
       "    <tr>\n",
       "      <th>2021-01-08</th>\n",
       "      <td>28.851458</td>\n",
       "      <td>31.287571</td>\n",
       "      <td>89.059998</td>\n",
       "      <td>80.160004</td>\n",
       "      <td>13.573341</td>\n",
       "      <td>388.356842</td>\n",
       "      <td>95.506195</td>\n",
       "    </tr>\n",
       "    <tr>\n",
       "      <th>2021-01-11</th>\n",
       "      <td>29.115883</td>\n",
       "      <td>31.672029</td>\n",
       "      <td>88.150002</td>\n",
       "      <td>81.830002</td>\n",
       "      <td>13.497140</td>\n",
       "      <td>382.655487</td>\n",
       "      <td>94.304604</td>\n",
       "    </tr>\n",
       "    <tr>\n",
       "      <th>2021-01-12</th>\n",
       "      <td>29.899357</td>\n",
       "      <td>32.523327</td>\n",
       "      <td>90.699997</td>\n",
       "      <td>83.019997</td>\n",
       "      <td>13.535240</td>\n",
       "      <td>382.407166</td>\n",
       "      <td>93.812149</td>\n",
       "    </tr>\n",
       "    <tr>\n",
       "      <th>2021-01-13</th>\n",
       "      <td>28.773111</td>\n",
       "      <td>32.120564</td>\n",
       "      <td>90.050003</td>\n",
       "      <td>81.809998</td>\n",
       "      <td>13.573341</td>\n",
       "      <td>371.203156</td>\n",
       "      <td>93.014389</td>\n",
       "    </tr>\n",
       "    <tr>\n",
       "      <th>2021-01-14</th>\n",
       "      <td>29.213814</td>\n",
       "      <td>32.624020</td>\n",
       "      <td>94.010002</td>\n",
       "      <td>82.010002</td>\n",
       "      <td>13.598203</td>\n",
       "      <td>364.230438</td>\n",
       "      <td>92.285553</td>\n",
       "    </tr>\n",
       "  </tbody>\n",
       "</table>\n",
       "<p>1258 rows × 7 columns</p>\n",
       "</div>"
      ],
      "text/plain": [
       "                 ALRS        DKL       KRNT        MTH        MYD        POOL  \\\n",
       "Date                                                                            \n",
       "2016-01-19  15.411111  14.550030  10.490000  27.389999  10.927785   70.404472   \n",
       "2016-01-20  15.281966  13.415271  10.510000  27.190001  10.883812   69.954056   \n",
       "2016-01-21  15.540254  13.011558  10.450000  26.860001  10.949774   69.785164   \n",
       "2016-01-22  15.540254  13.393448  11.270000  28.120001  10.957105   71.502319   \n",
       "2016-01-25  15.454163  13.278882  11.370000  27.170000  10.957105   73.163216   \n",
       "...               ...        ...        ...        ...        ...         ...   \n",
       "2021-01-08  28.851458  31.287571  89.059998  80.160004  13.573341  388.356842   \n",
       "2021-01-11  29.115883  31.672029  88.150002  81.830002  13.497140  382.655487   \n",
       "2021-01-12  29.899357  32.523327  90.699997  83.019997  13.535240  382.407166   \n",
       "2021-01-13  28.773111  32.120564  90.050003  81.809998  13.573341  371.203156   \n",
       "2021-01-14  29.213814  32.624020  94.010002  82.010002  13.598203  364.230438   \n",
       "\n",
       "                  RSG  \n",
       "Date                   \n",
       "2016-01-19  38.878365  \n",
       "2016-01-20  37.909737  \n",
       "2016-01-21  37.500950  \n",
       "2016-01-22  38.149673  \n",
       "2016-01-25  37.687569  \n",
       "...               ...  \n",
       "2021-01-08  95.506195  \n",
       "2021-01-11  94.304604  \n",
       "2021-01-12  93.812149  \n",
       "2021-01-13  93.014389  \n",
       "2021-01-14  92.285553  \n",
       "\n",
       "[1258 rows x 7 columns]"
      ]
     },
     "execution_count": 7,
     "metadata": {},
     "output_type": "execute_result"
    }
   ],
   "source": [
    "data"
   ]
  },
  {
   "cell_type": "code",
   "execution_count": 8,
   "metadata": {},
   "outputs": [],
   "source": [
    "def portfolio_annualized_performance(weights, mean_returns, cov_matrix):\n",
    "    returns = np.sum(mean_returns*weights)*252\n",
    "    std = np.sqrt(np.dot(weights.T, np.dot(cov_matrix, weights)))*np.sqrt(252)\n",
    "    return std, returns\n",
    "\n",
    "def neg_prob_sharpe_ratio(weights, mean_returns, log_returns, cov_matrix, risk_free_rate, sharpe_ratio_benchmark):\n",
    "    p_var, p_ret = portfolio_annualized_performance(weights, mean_returns, cov_matrix)\n",
    "    sharpe_ratio = (p_ret - risk_free_rate)/p_var\n",
    "    coskew = pd.Series(stats.skew(mean_returns), index=mean_returns.index).mean()\n",
    "    cokurt = pd.Series(stats.kurtosis(mean_returns, fisher=False), index=mean_returns.index).mean()    \n",
    "    sharpe_ratio_stdev = np.sqrt((1+(0.5*sharpe_ratio**2) - coskew*sharpe_ratio) + (((cokurt-3)/4)*sharpe_ratio**2))/(len(mean_returns)-1)\n",
    "    prob_sharpe_ratio = stats.norm.cdf((sharpe_ratio - sharpe_ratio_benchmark)/sharpe_ratio_stdev)\n",
    "    return -1*prob_sharpe_ratio\n",
    "\n",
    "def max_sharpe_ratio(mean_returns, log_returns, cov_matrix, risk_free_rate, sharpe_ratio_benchmark=0.0):\n",
    "    num_assets = len(mean_returns)\n",
    "    args = (mean_returns, log_returns, cov_matrix, risk_free_rate, sharpe_ratio_benchmark)\n",
    "    constraints = ({\"type\": \"eq\", \"fun\": lambda x: np.sum(x) - 1})\n",
    "    bound = (0.0,1.0)\n",
    "    bounds = tuple(bound for asset in range(num_assets))\n",
    "    result = sco.minimize(neg_prob_sharpe_ratio, num_assets*[1./num_assets,], args=args, method=\"SLSQP\", bounds=bounds, constraints=constraints)\n",
    "    return result\n",
    "\n",
    "def portfolio_volatility(weights, mean_returns, cov_matrix):\n",
    "    return portfolio_annualized_performance(weights, mean_returns, cov_matrix)[0]\n",
    "\n",
    "def min_variance(mean_returns, cov_matrix):\n",
    "    num_assets = len(mean_returns)\n",
    "    args = (mean_returns, cov_matrix)\n",
    "    constraints = ({\"type\": \"eq\", \"fun\": lambda x: np.sum(x) - 1})\n",
    "    bound = (0.0, 1.0)\n",
    "    bounds = tuple(bound for asset in range(num_assets))\n",
    "    result = sco.minimize(portfolio_volatility, num_assets*[1./num_assets,], args=args, method=\"SLSQP\", bounds=bounds, constraints=constraints)\n",
    "    return result\n",
    "\n",
    "def efficient_return(mean_returns, cov_matrix, target):\n",
    "    num_assets = len(mean_returns)\n",
    "    args = (mean_returns, cov_matrix)\n",
    "\n",
    "    def portfolio_return(weights):\n",
    "        return portfolio_annualized_performance(weights, mean_returns, cov_matrix)[1]\n",
    "\n",
    "    constraints = ({\"type\": \"eq\", \"fun\": lambda x: portfolio_return(x) - target}, {\"type\": \"eq\", \"fun\": lambda x: np.sum(x) - 1})\n",
    "    bounds = tuple((0,1) for asset in range(num_assets))\n",
    "    result = sco.minimize(portfolio_volatility, num_assets*[1./num_assets,], args=args, method=\"SLSQP\", bounds=bounds, constraints=constraints)\n",
    "    return result\n",
    "\n",
    "def efficient_frontier(mean_returns, cov_matrix, returns_range):\n",
    "    efficients = []\n",
    "    for ret in returns_range:\n",
    "        efficients.append(efficient_return(mean_returns, cov_matrix, ret))\n",
    "    return efficients"
   ]
  },
  {
   "cell_type": "code",
   "execution_count": 9,
   "metadata": {},
   "outputs": [],
   "source": [
    "returns = data.pct_change()\n",
    "mean_returns = returns.mean()\n",
    "cov_matrix = returns.cov()\n",
    "risk_free_rate = 0.0178\n",
    "log_returns = np.log(data/data.shift(1))\n",
    "log_returns = log_returns.dropna()"
   ]
  },
  {
   "cell_type": "code",
   "execution_count": 10,
   "metadata": {},
   "outputs": [],
   "source": [
    "max_sharpe = max_sharpe_ratio(mean_returns, log_returns, cov_matrix, risk_free_rate, sharpe_ratio_benchmark=1.0)\n",
    "sdp, rp = portfolio_annualized_performance(max_sharpe[\"x\"], mean_returns, cov_matrix)\n",
    "max_sharpe_allocation = pd.DataFrame(max_sharpe[\"x\"], index=data.columns, columns=[\"allocation\"])\n",
    "max_sharpe_allocation[\"allocation\"] = [round(i*100, 2)for i in max_sharpe_allocation[\"allocation\"]]\n",
    "max_sharpe_allocation = max_sharpe_allocation.T\n",
    "\n",
    "min_vol = min_variance(mean_returns, cov_matrix)\n",
    "sdp_min, rp_min = portfolio_annualized_performance(min_vol[\"x\"], mean_returns, cov_matrix)\n",
    "min_vol_allocation = pd.DataFrame(min_vol.x,index=data.columns,columns=[\"allocation\"])\n",
    "min_vol_allocation[\"allocation\"] = [round(i*100,2)for i in min_vol_allocation[\"allocation\"]]\n",
    "min_vol_allocation = min_vol_allocation.T\n",
    "\n",
    "an_vol = np.std(returns)*np.sqrt(252)\n",
    "an_rt = mean_returns*252"
   ]
  },
  {
   "cell_type": "code",
   "execution_count": 11,
   "metadata": {},
   "outputs": [
    {
     "name": "stdout",
     "output_type": "stream",
     "text": [
      "\n",
      "Maximum Sharpe Ratio Portfolio Allocation\n",
      "Annualized Return: 0.36\n",
      "Annualized Volatility: 0.23\n",
      "            ALRS   DKL  KRNT  MTH  MYD   POOL    RSG\n",
      "allocation  13.6  3.08  22.0  0.0  0.0  48.96  12.35\n",
      "\n",
      "Minimum Volatility Portfolio Allocation\n",
      "Annualized Return: 0.11\n",
      "Annualized Volatility: 0.12\n",
      "             ALRS  DKL  KRNT  MTH    MYD  POOL   RSG\n",
      "allocation  19.17  0.0   0.0  0.0  63.76  8.21  8.86\n",
      "\n",
      "Individual Stock Returns and Volatility\n",
      "ALRS: Annualized Return: 0.16; Annualized Volatility: 0.25\n",
      "DKL: Annualized Return: 0.31; Annualized Volatility: 0.55\n",
      "KRNT: Annualized Return: 0.57; Annualized Volatility: 0.51\n",
      "MTH: Annualized Return: 0.33; Annualized Volatility: 0.46\n",
      "MYD: Annualized Return: 0.05; Annualized Volatility: 0.15\n",
      "POOL: Annualized Return: 0.37; Annualized Volatility: 0.28\n",
      "RSG: Annualized Return: 0.19; Annualized Volatility: 0.2\n"
     ]
    }
   ],
   "source": [
    "print(\"\\nMaximum Sharpe Ratio Portfolio Allocation\")\n",
    "print(\"Annualized Return:\", round(rp, 2))\n",
    "print(\"Annualized Volatility:\", round(sdp, 2))\n",
    "print(max_sharpe_allocation)\n",
    "\n",
    "print(\"\\nMinimum Volatility Portfolio Allocation\")\n",
    "print(\"Annualized Return:\", round(rp_min, 2))\n",
    "print(\"Annualized Volatility:\", round(sdp_min, 2))\n",
    "print(min_vol_allocation)\n",
    "\n",
    "print(\"\\nIndividual Stock Returns and Volatility\")\n",
    "for i, txt in enumerate(data.columns):\n",
    "    print(\"{}: Annualized Return: {}; Annualized Volatility: {}\".format(txt, round(an_rt[i], 2), round(an_vol[i], 2)))"
   ]
  },
  {
   "cell_type": "code",
   "execution_count": 12,
   "metadata": {},
   "outputs": [
    {
     "data": {
      "image/png": "[encoded data removed]",
      "text/plain": [
       "<Figure size 720x360 with 1 Axes>"
      ]
     },
     "metadata": {},
     "output_type": "display_data"
    }
   ],
   "source": [
    "fig, ax = plt.subplots(figsize=(10, 5))\n",
    "ax.scatter(an_vol, an_rt, marker=\"o\", color=\"#f8766d\", s=200)\n",
    "\n",
    "for i, txt in enumerate(data.columns):\n",
    "    ax.annotate(txt, (an_vol[i], an_rt[i]), xytext=(10, 0), textcoords=\"offset points\")\n",
    "\n",
    "ax.scatter(sdp, rp, marker=\"*\", color=\"#01b0f6\", s=500, label=\"Maximum Sharpe ratio\")\n",
    "ax.scatter(sdp_min, rp_min, marker=\"*\", color=\"#02bf7d\", s=500, label=\"Minimum volatility\")\n",
    "\n",
    "#target = np.linspace(rp_min, 0.34, 50)\n",
    "#efficient_portfolios = efficient_frontier(mean_returns, cov_matrix, target)\n",
    "\n",
    "#ax.plot([pf[\"fun\"] for pf in efficient_portfolios], target, linestyle=\"-.\", color=\"black\", label=\"efficient frontier\")\n",
    "ax.set_title(\"Portfolio Optimization with Individual Stocks\")\n",
    "ax.set_xlabel(\"annualized volatility\")\n",
    "ax.set_ylabel(\"annualized returns\")\n",
    "ax.legend(labelspacing=0.8)\n",
    "plt.show(fig)"
   ]
  },
  {
   "cell_type": "code",
   "execution_count": 13,
   "metadata": {},
   "outputs": [
    {
     "name": "stdout",
     "output_type": "stream",
     "text": [
      "[*********************100%***********************]  7 of 7 completed\n"
     ]
    }
   ],
   "source": [
    "df_test = pdr.get_data_yahoo(list(data.columns), start=date.today()-timedelta(365))[\"Adj Close\"]"
   ]
  },
  {
   "cell_type": "code",
   "execution_count": 14,
   "metadata": {},
   "outputs": [],
   "source": [
    "ret_sharpe = 0\n",
    "for i in df_test.columns:\n",
    "    ret_sharpe += df_test[i]*max_sharpe_allocation.reset_index(drop=True)[i][0]\n",
    "ret_sharpe /= 100\n",
    "\n",
    "ret_vol = 0\n",
    "for i in df_test.columns:\n",
    "    ret_vol += df_test[i]*min_vol_allocation.reset_index(drop=True)[i][0]\n",
    "ret_vol /= 100"
   ]
  },
  {
   "cell_type": "code",
   "execution_count": 15,
   "metadata": {},
   "outputs": [
    {
     "name": "stdout",
     "output_type": "stream",
     "text": [
      "[*********************100%***********************]  7 of 7 completed\n"
     ]
    }
   ],
   "source": [
    "df_test = pdr.get_data_yahoo(list(data.columns), start=date.today()-timedelta(365))[\"Adj Close\"]"
   ]
  },
  {
   "cell_type": "code",
   "execution_count": 16,
   "metadata": {},
   "outputs": [],
   "source": [
    "df_test[\"MSP\"] = ret_sharpe\n",
    "df_test[\"MVP\"] = ret_vol"
   ]
  },
  {
   "cell_type": "code",
   "execution_count": 17,
   "metadata": {},
   "outputs": [],
   "source": [
    "if df_test.isna().sum().sum() > 0:\n",
    "    df_test = df_test.dropna()"
   ]
  },
  {
   "cell_type": "code",
   "execution_count": 18,
   "metadata": {},
   "outputs": [
    {
     "data": {
      "image/png": "[encoded data removed]",
      "text/plain": [
       "<Figure size 864x360 with 1 Axes>"
      ]
     },
     "metadata": {},
     "output_type": "display_data"
    }
   ],
   "source": [
    "df_test.plot(figsize=(12,5),legend=True)\n",
    "plt.show()"
   ]
  },
  {
   "cell_type": "code",
   "execution_count": 19,
   "metadata": {},
   "outputs": [
    {
     "data": {
      "image/png": "[encoded data removed]",
      "text/plain": [
       "<Figure size 864x360 with 1 Axes>"
      ]
     },
     "metadata": {},
     "output_type": "display_data"
    }
   ],
   "source": [
    "df_test[[\"MSP\", \"MVP\"]].plot(figsize=(12,5),legend=True)\n",
    "plt.show()"
   ]
  },
  {
   "cell_type": "code",
   "execution_count": 20,
   "metadata": {},
   "outputs": [
    {
     "data": {
      "text/plain": [
       "35.77463211129522"
      ]
     },
     "execution_count": 20,
     "metadata": {},
     "output_type": "execute_result"
    }
   ],
   "source": [
    "(df_test[\"MSP\"][-1] - df_test[\"MSP\"][0])/df_test[\"MSP\"][0] * 100"
   ]
  },
  {
   "cell_type": "code",
   "execution_count": 21,
   "metadata": {},
   "outputs": [
    {
     "data": {
      "text/plain": [
       "29.313860548759767"
      ]
     },
     "execution_count": 21,
     "metadata": {},
     "output_type": "execute_result"
    }
   ],
   "source": [
    "(df_test[\"MVP\"][-1] - df_test[\"MVP\"][0])/df_test[\"MVP\"][0] * 100"
   ]
  },
  {
   "cell_type": "code",
   "execution_count": 22,
   "metadata": {},
   "outputs": [
    {
     "data": {
      "text/html": [
       "<div>\n",
       "<style scoped>\n",
       "    .dataframe tbody tr th:only-of-type {\n",
       "        vertical-align: middle;\n",
       "    }\n",
       "\n",
       "    .dataframe tbody tr th {\n",
       "        vertical-align: top;\n",
       "    }\n",
       "\n",
       "    .dataframe thead th {\n",
       "        text-align: right;\n",
       "    }\n",
       "</style>\n",
       "<table border=\"1\" class=\"dataframe\">\n",
       "  <thead>\n",
       "    <tr style=\"text-align: right;\">\n",
       "      <th></th>\n",
       "      <th>ALRS</th>\n",
       "      <th>DKL</th>\n",
       "      <th>KRNT</th>\n",
       "      <th>MTH</th>\n",
       "      <th>MYD</th>\n",
       "      <th>POOL</th>\n",
       "      <th>RSG</th>\n",
       "      <th>MSP</th>\n",
       "      <th>MVP</th>\n",
       "    </tr>\n",
       "    <tr>\n",
       "      <th>Date</th>\n",
       "      <th></th>\n",
       "      <th></th>\n",
       "      <th></th>\n",
       "      <th></th>\n",
       "      <th></th>\n",
       "      <th></th>\n",
       "      <th></th>\n",
       "      <th></th>\n",
       "      <th></th>\n",
       "    </tr>\n",
       "  </thead>\n",
       "  <tbody>\n",
       "    <tr>\n",
       "      <th>2021-01-15</th>\n",
       "      <td>28.410755</td>\n",
       "      <td>32.038177</td>\n",
       "      <td>94.260002</td>\n",
       "      <td>82.029999</td>\n",
       "      <td>13.559956</td>\n",
       "      <td>356.979553</td>\n",
       "      <td>92.393890</td>\n",
       "      <td>211.775688</td>\n",
       "      <td>51.586290</td>\n",
       "    </tr>\n",
       "    <tr>\n",
       "      <th>2021-01-19</th>\n",
       "      <td>28.077780</td>\n",
       "      <td>33.951317</td>\n",
       "      <td>94.889999</td>\n",
       "      <td>85.190002</td>\n",
       "      <td>13.588641</td>\n",
       "      <td>358.201324</td>\n",
       "      <td>93.240906</td>\n",
       "      <td>212.630669</td>\n",
       "      <td>51.716097</td>\n",
       "    </tr>\n",
       "    <tr>\n",
       "      <th>2021-01-20</th>\n",
       "      <td>27.264921</td>\n",
       "      <td>35.571533</td>\n",
       "      <td>98.959999</td>\n",
       "      <td>91.099998</td>\n",
       "      <td>13.674706</td>\n",
       "      <td>363.773499</td>\n",
       "      <td>93.250763</td>\n",
       "      <td>216.194808</td>\n",
       "      <td>52.073500</td>\n",
       "    </tr>\n",
       "    <tr>\n",
       "      <th>2021-01-21</th>\n",
       "      <td>27.118023</td>\n",
       "      <td>34.125233</td>\n",
       "      <td>97.500000</td>\n",
       "      <td>91.860001</td>\n",
       "      <td>13.770333</td>\n",
       "      <td>364.240326</td>\n",
       "      <td>92.551483</td>\n",
       "      <td>215.951295</td>\n",
       "      <td>52.082684</td>\n",
       "    </tr>\n",
       "    <tr>\n",
       "      <th>2021-01-22</th>\n",
       "      <td>27.891701</td>\n",
       "      <td>34.949078</td>\n",
       "      <td>97.949997</td>\n",
       "      <td>95.290001</td>\n",
       "      <td>13.732080</td>\n",
       "      <td>366.822845</td>\n",
       "      <td>92.974991</td>\n",
       "      <td>217.497579</td>\n",
       "      <td>52.456155</td>\n",
       "    </tr>\n",
       "    <tr>\n",
       "      <th>...</th>\n",
       "      <td>...</td>\n",
       "      <td>...</td>\n",
       "      <td>...</td>\n",
       "      <td>...</td>\n",
       "      <td>...</td>\n",
       "      <td>...</td>\n",
       "      <td>...</td>\n",
       "      <td>...</td>\n",
       "      <td>...</td>\n",
       "    </tr>\n",
       "    <tr>\n",
       "      <th>2022-01-10</th>\n",
       "      <td>29.500000</td>\n",
       "      <td>42.540001</td>\n",
       "      <td>124.440002</td>\n",
       "      <td>107.790001</td>\n",
       "      <td>14.495551</td>\n",
       "      <td>496.309998</td>\n",
       "      <td>131.630005</td>\n",
       "      <td>291.948713</td>\n",
       "      <td>67.306983</td>\n",
       "    </tr>\n",
       "    <tr>\n",
       "      <th>2022-01-11</th>\n",
       "      <td>29.450001</td>\n",
       "      <td>43.240002</td>\n",
       "      <td>122.790001</td>\n",
       "      <td>109.430000</td>\n",
       "      <td>14.376000</td>\n",
       "      <td>502.059998</td>\n",
       "      <td>132.100006</td>\n",
       "      <td>294.473718</td>\n",
       "      <td>67.734889</td>\n",
       "    </tr>\n",
       "    <tr>\n",
       "      <th>2022-01-12</th>\n",
       "      <td>29.270000</td>\n",
       "      <td>42.500000</td>\n",
       "      <td>121.459999</td>\n",
       "      <td>109.709999</td>\n",
       "      <td>14.376000</td>\n",
       "      <td>512.809998</td>\n",
       "      <td>131.820007</td>\n",
       "      <td>299.362466</td>\n",
       "      <td>68.558150</td>\n",
       "    </tr>\n",
       "    <tr>\n",
       "      <th>2022-01-13</th>\n",
       "      <td>29.559999</td>\n",
       "      <td>41.040001</td>\n",
       "      <td>111.809998</td>\n",
       "      <td>116.070000</td>\n",
       "      <td>14.170000</td>\n",
       "      <td>507.230011</td>\n",
       "      <td>130.639999</td>\n",
       "      <td>294.356245</td>\n",
       "      <td>67.919732</td>\n",
       "    </tr>\n",
       "    <tr>\n",
       "      <th>2022-01-14</th>\n",
       "      <td>29.490000</td>\n",
       "      <td>41.810001</td>\n",
       "      <td>110.410004</td>\n",
       "      <td>115.290001</td>\n",
       "      <td>14.090000</td>\n",
       "      <td>494.100006</td>\n",
       "      <td>129.860001</td>\n",
       "      <td>287.537662</td>\n",
       "      <td>66.708224</td>\n",
       "    </tr>\n",
       "  </tbody>\n",
       "</table>\n",
       "<p>253 rows × 9 columns</p>\n",
       "</div>"
      ],
      "text/plain": [
       "                 ALRS        DKL        KRNT         MTH        MYD  \\\n",
       "Date                                                                  \n",
       "2021-01-15  28.410755  32.038177   94.260002   82.029999  13.559956   \n",
       "2021-01-19  28.077780  33.951317   94.889999   85.190002  13.588641   \n",
       "2021-01-20  27.264921  35.571533   98.959999   91.099998  13.674706   \n",
       "2021-01-21  27.118023  34.125233   97.500000   91.860001  13.770333   \n",
       "2021-01-22  27.891701  34.949078   97.949997   95.290001  13.732080   \n",
       "...               ...        ...         ...         ...        ...   \n",
       "2022-01-10  29.500000  42.540001  124.440002  107.790001  14.495551   \n",
       "2022-01-11  29.450001  43.240002  122.790001  109.430000  14.376000   \n",
       "2022-01-12  29.270000  42.500000  121.459999  109.709999  14.376000   \n",
       "2022-01-13  29.559999  41.040001  111.809998  116.070000  14.170000   \n",
       "2022-01-14  29.490000  41.810001  110.410004  115.290001  14.090000   \n",
       "\n",
       "                  POOL         RSG         MSP        MVP  \n",
       "Date                                                       \n",
       "2021-01-15  356.979553   92.393890  211.775688  51.586290  \n",
       "2021-01-19  358.201324   93.240906  212.630669  51.716097  \n",
       "2021-01-20  363.773499   93.250763  216.194808  52.073500  \n",
       "2021-01-21  364.240326   92.551483  215.951295  52.082684  \n",
       "2021-01-22  366.822845   92.974991  217.497579  52.456155  \n",
       "...                ...         ...         ...        ...  \n",
       "2022-01-10  496.309998  131.630005  291.948713  67.306983  \n",
       "2022-01-11  502.059998  132.100006  294.473718  67.734889  \n",
       "2022-01-12  512.809998  131.820007  299.362466  68.558150  \n",
       "2022-01-13  507.230011  130.639999  294.356245  67.919732  \n",
       "2022-01-14  494.100006  129.860001  287.537662  66.708224  \n",
       "\n",
       "[253 rows x 9 columns]"
      ]
     },
     "execution_count": 22,
     "metadata": {},
     "output_type": "execute_result"
    }
   ],
   "source": [
    "df_test"
   ]
  },
  {
   "cell_type": "code",
   "execution_count": null,
   "metadata": {},
   "outputs": [],
   "source": []
  },
  {
   "cell_type": "code",
   "execution_count": null,
   "metadata": {},
   "outputs": [],
   "source": []
  }
 ],
 "metadata": {
  "kernelspec": {
   "display_name": "Python 3",
   "language": "python",
   "name": "python3"
  },
  "language_info": {
   "codemirror_mode": {
    "name": "ipython",
    "version": 3
   },
   "file_extension": ".py",
   "mimetype": "text/x-python",
   "name": "python",
   "nbconvert_exporter": "python",
   "pygments_lexer": "ipython3",
   "version": "3.7.7"
  }
 },
 "nbformat": 4,
 "nbformat_minor": 4
}
