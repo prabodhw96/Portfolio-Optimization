{
 "cells": [
  {
   "cell_type": "code",
   "execution_count": 1,
   "metadata": {},
   "outputs": [],
   "source": [
    "import numpy as np\n",
    "import pandas as pd"
   ]
  },
  {
   "cell_type": "code",
   "execution_count": 2,
   "metadata": {},
   "outputs": [
    {
     "data": {
      "text/html": [
       "<div>\n",
       "<style scoped>\n",
       "    .dataframe tbody tr th:only-of-type {\n",
       "        vertical-align: middle;\n",
       "    }\n",
       "\n",
       "    .dataframe tbody tr th {\n",
       "        vertical-align: top;\n",
       "    }\n",
       "\n",
       "    .dataframe thead th {\n",
       "        text-align: right;\n",
       "    }\n",
       "</style>\n",
       "<table border=\"1\" class=\"dataframe\">\n",
       "  <thead>\n",
       "    <tr style=\"text-align: right;\">\n",
       "      <th></th>\n",
       "      <th>Symbol</th>\n",
       "      <th>Name</th>\n",
       "      <th>Last Sale</th>\n",
       "      <th>Net Change</th>\n",
       "      <th>% Change</th>\n",
       "      <th>Market Cap</th>\n",
       "      <th>Country</th>\n",
       "      <th>IPO Year</th>\n",
       "      <th>Volume</th>\n",
       "      <th>Sector</th>\n",
       "      <th>Industry</th>\n",
       "    </tr>\n",
       "  </thead>\n",
       "  <tbody>\n",
       "    <tr>\n",
       "      <th>0</th>\n",
       "      <td>A</td>\n",
       "      <td>Agilent Technologies Inc. Common Stock</td>\n",
       "      <td>$140.13</td>\n",
       "      <td>1.38</td>\n",
       "      <td>0.995%</td>\n",
       "      <td>4.252150e+10</td>\n",
       "      <td>United States</td>\n",
       "      <td>1999.0</td>\n",
       "      <td>961367</td>\n",
       "      <td>Capital Goods</td>\n",
       "      <td>Electrical Products</td>\n",
       "    </tr>\n",
       "    <tr>\n",
       "      <th>1</th>\n",
       "      <td>AA</td>\n",
       "      <td>Alcoa Corporation Common Stock</td>\n",
       "      <td>$37.98</td>\n",
       "      <td>-0.64</td>\n",
       "      <td>-1.657%</td>\n",
       "      <td>7.091806e+09</td>\n",
       "      <td>NaN</td>\n",
       "      <td>2016.0</td>\n",
       "      <td>4924051</td>\n",
       "      <td>Basic Industries</td>\n",
       "      <td>Metal Fabrications</td>\n",
       "    </tr>\n",
       "    <tr>\n",
       "      <th>2</th>\n",
       "      <td>AAC</td>\n",
       "      <td>Ares Acquisition Corporation Class A Ordinary ...</td>\n",
       "      <td>$9.78</td>\n",
       "      <td>-0.03</td>\n",
       "      <td>-0.306%</td>\n",
       "      <td>1.222500e+09</td>\n",
       "      <td>NaN</td>\n",
       "      <td>2021.0</td>\n",
       "      <td>213965</td>\n",
       "      <td>Finance</td>\n",
       "      <td>Business Services</td>\n",
       "    </tr>\n",
       "    <tr>\n",
       "      <th>3</th>\n",
       "      <td>AACG</td>\n",
       "      <td>ATA Creativity Global American Depositary Shares</td>\n",
       "      <td>$3.31</td>\n",
       "      <td>-0.02</td>\n",
       "      <td>-0.601%</td>\n",
       "      <td>1.049309e+08</td>\n",
       "      <td>China</td>\n",
       "      <td>NaN</td>\n",
       "      <td>39021</td>\n",
       "      <td>Miscellaneous</td>\n",
       "      <td>Service to the Health Industry</td>\n",
       "    </tr>\n",
       "    <tr>\n",
       "      <th>4</th>\n",
       "      <td>AACQ</td>\n",
       "      <td>Artius Acquisition Inc. Class A Common Stock</td>\n",
       "      <td>$10.00</td>\n",
       "      <td>0.01</td>\n",
       "      <td>0.10%</td>\n",
       "      <td>9.056250e+08</td>\n",
       "      <td>United States</td>\n",
       "      <td>2020.0</td>\n",
       "      <td>2120713</td>\n",
       "      <td>Finance</td>\n",
       "      <td>Business Services</td>\n",
       "    </tr>\n",
       "  </tbody>\n",
       "</table>\n",
       "</div>"
      ],
      "text/plain": [
       "  Symbol                                               Name Last Sale  \\\n",
       "0      A             Agilent Technologies Inc. Common Stock   $140.13   \n",
       "1     AA                    Alcoa Corporation Common Stock     $37.98   \n",
       "2    AAC  Ares Acquisition Corporation Class A Ordinary ...     $9.78   \n",
       "3   AACG   ATA Creativity Global American Depositary Shares     $3.31   \n",
       "4   AACQ       Artius Acquisition Inc. Class A Common Stock    $10.00   \n",
       "\n",
       "   Net Change % Change    Market Cap        Country  IPO Year   Volume  \\\n",
       "0        1.38   0.995%  4.252150e+10  United States    1999.0   961367   \n",
       "1       -0.64  -1.657%  7.091806e+09            NaN    2016.0  4924051   \n",
       "2       -0.03  -0.306%  1.222500e+09            NaN    2021.0   213965   \n",
       "3       -0.02  -0.601%  1.049309e+08          China       NaN    39021   \n",
       "4        0.01    0.10%  9.056250e+08  United States    2020.0  2120713   \n",
       "\n",
       "             Sector                        Industry  \n",
       "0     Capital Goods             Electrical Products  \n",
       "1  Basic Industries              Metal Fabrications  \n",
       "2           Finance               Business Services  \n",
       "3     Miscellaneous  Service to the Health Industry  \n",
       "4           Finance               Business Services  "
      ]
     },
     "execution_count": 2,
     "metadata": {},
     "output_type": "execute_result"
    }
   ],
   "source": [
    "df = pd.read_csv(\"nasdaq_screener.csv\")\n",
    "df.head()"
   ]
  },
  {
   "cell_type": "code",
   "execution_count": 3,
   "metadata": {},
   "outputs": [
    {
     "data": {
      "text/plain": [
       "(7804, 11)"
      ]
     },
     "execution_count": 3,
     "metadata": {},
     "output_type": "execute_result"
    }
   ],
   "source": [
    "df.shape"
   ]
  },
  {
   "cell_type": "code",
   "execution_count": 4,
   "metadata": {},
   "outputs": [],
   "source": [
    "df = df[[\"Symbol\", \"Name\"]]"
   ]
  },
  {
   "cell_type": "code",
   "execution_count": 5,
   "metadata": {},
   "outputs": [],
   "source": [
    "indices = list(df[df[\"Symbol\"].str.contains(\"\\^|/\")].index)\n",
    "indices = [i-1 for i in indices]"
   ]
  },
  {
   "cell_type": "code",
   "execution_count": 6,
   "metadata": {},
   "outputs": [],
   "source": [
    "df = df.drop(df.index[indices]).reset_index(drop=True)\n",
    "df = df[~df[\"Symbol\"].str.contains(\"\\^|/\")].reset_index(drop=True)"
   ]
  },
  {
   "cell_type": "code",
   "execution_count": 7,
   "metadata": {},
   "outputs": [],
   "source": [
    "df[\"Name\"] = df[\"Name\"].apply(lambda x: x.split(\"Common\")[0])\n",
    "df[\"Name\"] = df[\"Name\"].apply(lambda x: x.split(\"common\")[0])\n",
    "df[\"Name\"] = df[\"Name\"].apply(lambda x: x.split(\"COMMON\")[0])\n",
    "df[\"Name\"] = df[\"Name\"].apply(lambda x: x.split(\"COmmon\")[0])\n",
    "df[\"Name\"] = df[\"Name\"].apply(lambda x: x.split(\"Class\")[0])\n",
    "df[\"Name\"] = df[\"Name\"].apply(lambda x: x.split(\"class\")[0])\n",
    "df[\"Name\"] = df[\"Name\"].apply(lambda x: x.strip())"
   ]
  },
  {
   "cell_type": "code",
   "execution_count": 8,
   "metadata": {},
   "outputs": [],
   "source": [
    "df = df.drop_duplicates().reset_index(drop=True)"
   ]
  },
  {
   "cell_type": "code",
   "execution_count": 9,
   "metadata": {},
   "outputs": [],
   "source": [
    "duplicate_names = df[df[\"Name\"].duplicated()][\"Name\"] + \" (\"+ df[df[\"Name\"].duplicated()][\"Symbol\"] + \")\""
   ]
  },
  {
   "cell_type": "code",
   "execution_count": 10,
   "metadata": {},
   "outputs": [],
   "source": [
    "for i in duplicate_names.index:\n",
    "    df[\"Name\"][i] = duplicate_names[i]"
   ]
  },
  {
   "cell_type": "code",
   "execution_count": 11,
   "metadata": {},
   "outputs": [],
   "source": [
    "df.to_csv(\"nasdaq_stocks.csv\", index=False)"
   ]
  },
  {
   "cell_type": "code",
   "execution_count": null,
   "metadata": {},
   "outputs": [],
   "source": []
  }
 ],
 "metadata": {
  "kernelspec": {
   "display_name": "Python 3 (ipykernel)",
   "language": "python",
   "name": "python3"
  },
  "language_info": {
   "codemirror_mode": {
    "name": "ipython",
    "version": 3
   },
   "file_extension": ".py",
   "mimetype": "text/x-python",
   "name": "python",
   "nbconvert_exporter": "python",
   "pygments_lexer": "ipython3",
   "version": "3.8.10"
  }
 },
 "nbformat": 4,
 "nbformat_minor": 4
}
