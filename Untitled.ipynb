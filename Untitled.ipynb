{
 "cells": [
  {
   "cell_type": "code",
   "execution_count": 1,
   "metadata": {},
   "outputs": [],
   "source": [
    "import numpy as np\n",
    "import pandas as pd\n",
    "import matplotlib.pyplot as plt\n",
    "plt.style.use(\"ggplot\")\n",
    "import pandas_datareader.data as web\n",
    "from datetime import date, timedelta\n",
    "import plotly.graph_objects as go\n",
    "from scipy import stats\n",
    "import scipy.optimize as sco"
   ]
  },
  {
   "cell_type": "code",
   "execution_count": 2,
   "metadata": {},
   "outputs": [],
   "source": [
    "STOCK_URL = (\n",
    "\t\"nasdaq_stocks.csv\"\n",
    ")\n",
    "\n",
    "def load_data():\n",
    "\tdf = pd.read_csv(STOCK_URL)\n",
    "\treturn df\n",
    "\n",
    "def fetch_data(stocks):\n",
    "\ttry:\n",
    "\t\tdata = web.DataReader(stocks, data_source=\"yahoo\",start=date.today()-timedelta(days=365))[\"Adj Close\"]\n",
    "\texcept:\n",
    "\t\tst.success(\"Please select stocks :)\")\n",
    "\t\tst.stop()\n",
    "\treturn data\n",
    "\n",
    "def coskew(df):\n",
    "    num = len(df.columns)\n",
    "    mtx = np.zeros(shape = (len(df), num**2))\n",
    "    v = df.values\n",
    "    means = v.mean(0,keepdims=True)\n",
    "    v1 = (v-means).T\n",
    "    \n",
    "    for i in range(num):\n",
    "        for j in range(num):\n",
    "            vals = v1[i]*v1[j]\n",
    "            mtx[:,(i*num)+j] = vals/float((len(df)-1)*df.iloc[:,i].std()*df.iloc[:,j].std())\n",
    "    \n",
    "    m3 = np.dot(v1,mtx)\n",
    "    \n",
    "    for i in range(num**2):\n",
    "        use = i%num\n",
    "        m3[:,i] = m3[:,i]/float(df.iloc[:,use].std())\n",
    "        \n",
    "    return m3\n",
    "\n",
    "def cokurt(df):\n",
    "    num = len(df.columns)\n",
    "    mtx1 = np.zeros(shape = (len(df), num**2))\n",
    "    mtx2 = np.zeros(shape = (len(df), num**3))\n",
    "    v = df.values\n",
    "    means = v.mean(0,keepdims=True)\n",
    "    v1 = (v-means).T\n",
    "\n",
    "    for k in range(num):\n",
    "        for i in range(num):\n",
    "            for j in range(num):\n",
    "                vals = v1[i]*v1[j]*v1[k]\n",
    "                mtx2[:,(k*(num**2))+(i*num)+j] = vals/float((len(df)-1)*df.iloc[:,i].std()*df.iloc[:,j].std()*df.iloc[:,k].std())\n",
    "\n",
    "    m4 = np.dot(v1,mtx2)\n",
    "    for i in range(num**3):\n",
    "        use = i%num\n",
    "        m4[:,i] = m4[:,i]/float(df.iloc[:,use].std())\n",
    "        \n",
    "    return m4\n",
    "\n",
    "def portfolio_annualized_performance(weights, mean_returns, cov_matrix):\n",
    "\treturns = np.sum(mean_returns*weights)*252\n",
    "\tstd = np.sqrt(np.dot(weights.T, np.dot(cov_matrix, weights)))*np.sqrt(252)\n",
    "\treturn std, returns\n",
    "\n",
    "def neg_prob_sharpe_ratio(weights, mean_returns, log_returns, cov_matrix, risk_free_rate, sharpe_ratio_benchmark):\n",
    "    p_var, p_ret = portfolio_annualized_performance(weights, mean_returns, cov_matrix)\n",
    "    sharpe_ratio = (p_ret - risk_free_rate)/p_var\n",
    "    sharpe_ratio_stdev = np.sqrt((1+(0.5*sharpe_ratio**2) - (coskew(log_returns).mean()*sharpe_ratio) + (((cokurt(log_returns).mean()-3)/4)*sharpe_ratio**2))/(len(mean_returns)-1))\n",
    "    prob_sharpe_ratio = stats.norm.cdf((sharpe_ratio - sharpe_ratio_benchmark)/sharpe_ratio_stdev)\n",
    "    return -1*prob_sharpe_ratio\n",
    "\n",
    "def max_sharpe_ratio(mean_returns, log_returns, cov_matrix, risk_free_rate, sharpe_ratio_benchmark=0.0):\n",
    "\tnum_assets = len(mean_returns)\n",
    "\targs = (mean_returns, log_returns, cov_matrix, risk_free_rate, sharpe_ratio_benchmark)\n",
    "\tconstraints = ({\"type\": \"eq\", \"fun\": lambda x: np.sum(x) - 1})\n",
    "\tbound = (0.0,1.0)\n",
    "\tbounds = tuple(bound for asset in range(num_assets))\n",
    "\tresult = sco.minimize(neg_prob_sharpe_ratio, num_assets*[1./num_assets,], args=args, method=\"SLSQP\", bounds=bounds, constraints=constraints)\n",
    "\treturn result\n",
    "\n",
    "def portfolio_volatility(weights, mean_returns, cov_matrix):\n",
    "\treturn portfolio_annualized_performance(weights, mean_returns, cov_matrix)[0]\n",
    "\n",
    "def min_variance(mean_returns, cov_matrix):\n",
    "\tnum_assets = len(mean_returns)\n",
    "\targs = (mean_returns, cov_matrix)\n",
    "\tconstraints = ({\"type\": \"eq\", \"fun\": lambda x: np.sum(x) - 1})\n",
    "\tbound = (0.0, 1.0)\n",
    "\tbounds = tuple(bound for asset in range(num_assets))\n",
    "\tresult = sco.minimize(portfolio_volatility, num_assets*[1./num_assets,], args=args, method=\"SLSQP\", bounds=bounds, constraints=constraints)\n",
    "\treturn result\n",
    "\n",
    "def efficient_return(mean_returns, cov_matrix, target):\n",
    "\tnum_assets = len(mean_returns)\n",
    "\targs = (mean_returns, cov_matrix)\n",
    "\n",
    "\tdef portfolio_return(weights):\n",
    "\t\treturn portfolio_annualized_performance(weights, mean_returns, cov_matrix)[1]\n",
    "\n",
    "\tconstraints = ({\"type\": \"eq\", \"fun\": lambda x: portfolio_return(x) - target}, {\"type\": \"eq\", \"fun\": lambda x: np.sum(x) - 1})\n",
    "\tbounds = tuple((0,1) for asset in range(num_assets))\n",
    "\tresult = sco.minimize(portfolio_volatility, num_assets*[1./num_assets,], args=args, method=\"SLSQP\", bounds=bounds, constraints=constraints)\n",
    "\treturn result\n",
    "\n",
    "def efficient_frontier(mean_returns, cov_matrix, returns_range):\n",
    "\tefficients = []\n",
    "\tfor ret in returns_range:\n",
    "\t\tefficients.append(efficient_return(mean_returns, cov_matrix, ret))\n",
    "\treturn efficients"
   ]
  },
  {
   "cell_type": "code",
   "execution_count": 3,
   "metadata": {},
   "outputs": [],
   "source": [
    "import random\n",
    "symbol = load_data()\n",
    "symbol_dict = dict(zip(symbol[\"Name\"], symbol[\"Symbol\"]))\n",
    "#stocks = [random.choice(list(symbol_dict.keys())) for i in range(5)]\n",
    "stocks = [\"Apple Inc.\", \"Amazon.com Inc.\", \"Alphabet Inc.\", \"Netflix Inc.\", \"Tesla Inc.\"]\n",
    "stocks = [symbol_dict[i] for i in stocks]\n",
    "data = fetch_data(stocks)"
   ]
  },
  {
   "cell_type": "code",
   "execution_count": 4,
   "metadata": {},
   "outputs": [
    {
     "data": {
      "text/plain": [
       "['AAPL', 'AMZN', 'GOOG', 'NFLX', 'TSLA']"
      ]
     },
     "execution_count": 4,
     "metadata": {},
     "output_type": "execute_result"
    }
   ],
   "source": [
    "stocks"
   ]
  },
  {
   "cell_type": "code",
   "execution_count": 5,
   "metadata": {},
   "outputs": [],
   "source": [
    "returns = data.pct_change()\n",
    "mean_returns = returns.mean()\n",
    "cov_matrix = returns.cov()\n",
    "risk_free_rate = 0.0178\n",
    "log_returns = np.log(data/data.shift(1))\n",
    "log_returns = log_returns.dropna()"
   ]
  },
  {
   "cell_type": "code",
   "execution_count": 6,
   "metadata": {},
   "outputs": [],
   "source": [
    "max_sharpe = max_sharpe_ratio(mean_returns, log_returns, cov_matrix, risk_free_rate, sharpe_ratio_benchmark=2.0)\n",
    "sdp, rp = portfolio_annualized_performance(max_sharpe[\"x\"], mean_returns, cov_matrix)\n",
    "max_sharpe_allocation = pd.DataFrame(max_sharpe[\"x\"], index=data.columns, columns=[\"allocation\"])\n",
    "max_sharpe_allocation[\"allocation\"] = [round(i*100, 2)for i in max_sharpe_allocation[\"allocation\"]]\n",
    "max_sharpe_allocation = max_sharpe_allocation.T\n",
    "\n",
    "min_vol = min_variance(mean_returns, cov_matrix)\n",
    "sdp_min, rp_min = portfolio_annualized_performance(min_vol[\"x\"], mean_returns, cov_matrix)\n",
    "min_vol_allocation = pd.DataFrame(min_vol.x,index=data.columns,columns=[\"allocation\"])\n",
    "min_vol_allocation[\"allocation\"] = [round(i*100,2)for i in min_vol_allocation[\"allocation\"]]\n",
    "min_vol_allocation = min_vol_allocation.T\n",
    "\n",
    "an_vol = np.std(returns)*np.sqrt(252)\n",
    "an_rt = mean_returns*252"
   ]
  },
  {
   "cell_type": "code",
   "execution_count": 7,
   "metadata": {},
   "outputs": [
    {
     "name": "stderr",
     "output_type": "stream",
     "text": [
      "c:\\users\\prabo\\appdata\\local\\programs\\python\\python37\\lib\\site-packages\\ipykernel_launcher.py:18: UserWarning: Matplotlib is currently using module://ipykernel.pylab.backend_inline, which is a non-GUI backend, so cannot show the figure.\n"
     ]
    },
    {
     "data": {
      "image/png": "[encoded data removed]",
      "text/plain": [
       "<Figure size 720x360 with 1 Axes>"
      ]
     },
     "metadata": {},
     "output_type": "display_data"
    }
   ],
   "source": [
    "fig, ax = plt.subplots(figsize=(10, 5))\n",
    "ax.scatter(an_vol, an_rt, marker=\"o\", color=\"#f8766d\", s=200)\n",
    "\n",
    "for i, txt in enumerate(data.columns):\n",
    "    ax.annotate(txt, (an_vol[i], an_rt[i]), xytext=(10, 0), textcoords=\"offset points\")\n",
    "\n",
    "ax.scatter(sdp, rp, marker=\"*\", color=\"#01b0f6\", s=500, label=\"Maximum Sharpe ratio\")\n",
    "ax.scatter(sdp_min, rp_min, marker=\"*\", color=\"#02bf7d\", s=500, label=\"Minimum volatility\")\n",
    "\n",
    "#target = np.linspace(rp_min, 0.34, 50)\n",
    "#efficient_portfolios = efficient_frontier(mean_returns, cov_matrix, target)\n",
    "\n",
    "#ax.plot([pf[\"fun\"] for pf in efficient_portfolios], target, linestyle=\"-.\", color=\"black\", label=\"efficient frontier\")\n",
    "ax.set_title(\"Portfolio Optimization with Individual Stocks\")\n",
    "ax.set_xlabel(\"annualized volatility\")\n",
    "ax.set_ylabel(\"annualized returns\")\n",
    "ax.legend(labelspacing=0.8)\n",
    "fig.show()"
   ]
  },
  {
   "cell_type": "code",
   "execution_count": null,
   "metadata": {},
   "outputs": [],
   "source": []
  }
 ],
 "metadata": {
  "kernelspec": {
   "display_name": "Python 3",
   "language": "python",
   "name": "python3"
  },
  "language_info": {
   "codemirror_mode": {
    "name": "ipython",
    "version": 3
   },
   "file_extension": ".py",
   "mimetype": "text/x-python",
   "name": "python",
   "nbconvert_exporter": "python",
   "pygments_lexer": "ipython3",
   "version": "3.7.7"
  }
 },
 "nbformat": 4,
 "nbformat_minor": 4
}
