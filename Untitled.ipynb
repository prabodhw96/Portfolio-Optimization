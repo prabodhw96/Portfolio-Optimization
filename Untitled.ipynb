{
 "cells": [
  {
   "cell_type": "code",
   "execution_count": 13,
   "metadata": {},
   "outputs": [],
   "source": [
    "import numpy as np\n",
    "import pandas as pd\n",
    "import matplotlib.pyplot as plt\n",
    "plt.style.use(\"ggplot\")\n",
    "import pandas_datareader.data as web\n",
    "from datetime import date, timedelta\n",
    "import plotly.graph_objects as go\n",
    "import scipy.optimize as sco"
   ]
  },
  {
   "cell_type": "code",
   "execution_count": 247,
   "metadata": {},
   "outputs": [],
   "source": [
    "STOCK_URL = (\n",
    "\t\"nasdaq_stocks.csv\"\n",
    ")\n",
    "\n",
    "def load_data():\n",
    "\tdf = pd.read_csv(STOCK_URL)\n",
    "\treturn df\n",
    "\n",
    "def fetch_data(stocks):\n",
    "\ttry:\n",
    "\t\tdata = web.DataReader(stocks, data_source=\"yahoo\",start=date.today()-timedelta(days=365))[\"Adj Close\"]\n",
    "\texcept:\n",
    "\t\tst.success(\"Please select stocks :)\")\n",
    "\t\tst.stop()\n",
    "\treturn data\n",
    "\n",
    "def portfolio_annualized_performance(weights, mean_returns, cov_matrix):\n",
    "\treturns = np.sum(mean_returns*weights)*252\n",
    "\tstd = np.sqrt(np.dot(weights.T, np.dot(cov_matrix, weights)))*np.sqrt(252)\n",
    "\treturn std, returns\n",
    "\n",
    "def neg_sharpe_ratio(weights, mean_returns, cov_matrix, risk_free_rate):\n",
    "\tp_var, p_ret = portfolio_annualized_performance(weights, mean_returns, cov_matrix)\n",
    "\treturn -(p_ret - risk_free_rate)/p_var\n",
    "\n",
    "def max_sharpe_ratio(mean_returns, cov_matrix, risk_free_rate):\n",
    "\tnum_assets = len(mean_returns)\n",
    "\targs = (mean_returns, cov_matrix, risk_free_rate)\n",
    "\tconstraints = ({\"type\": \"eq\", \"fun\": lambda x: np.sum(x) - 1})\n",
    "\tbound = (0.0,1.0)\n",
    "\tbounds = tuple(bound for asset in range(num_assets))\n",
    "\tresult = sco.minimize(neg_sharpe_ratio, num_assets*[1./num_assets,], args=args, method=\"SLSQP\", bounds=bounds, constraints=constraints)\n",
    "\treturn result\n",
    "\n",
    "def portfolio_volatility(weights, mean_returns, cov_matrix):\n",
    "\treturn portfolio_annualized_performance(weights, mean_returns, cov_matrix)[0]\n",
    "\n",
    "def min_variance(mean_returns, cov_matrix):\n",
    "\tnum_assets = len(mean_returns)\n",
    "\targs = (mean_returns, cov_matrix)\n",
    "\tconstraints = ({\"type\": \"eq\", \"fun\": lambda x: np.sum(x) - 1})\n",
    "\tbound = (0.0, 1.0)\n",
    "\tbounds = tuple(bound for asset in range(num_assets))\n",
    "\tresult = sco.minimize(portfolio_volatility, num_assets*[1./num_assets,], args=args, method=\"SLSQP\", bounds=bounds, constraints=constraints)\n",
    "\treturn result\n",
    "\n",
    "def efficient_return(mean_returns, cov_matrix, target):\n",
    "\tnum_assets = len(mean_returns)\n",
    "\targs = (mean_returns, cov_matrix)\n",
    "\n",
    "\tdef portfolio_return(weights):\n",
    "\t\treturn portfolio_annualized_performance(weights, mean_returns, cov_matrix)[1]\n",
    "\n",
    "\tconstraints = ({\"type\": \"eq\", \"fun\": lambda x: portfolio_return(x) - target}, {\"type\": \"eq\", \"fun\": lambda x: np.sum(x) - 1})\n",
    "\tbounds = tuple((0,1) for asset in range(num_assets))\n",
    "\tresult = sco.minimize(portfolio_volatility, num_assets*[1./num_assets,], args=args, method=\"SLSQP\", bounds=bounds, constraints=constraints)\n",
    "\treturn result\n",
    "\n",
    "def efficient_frontier(mean_returns, cov_matrix, returns_range):\n",
    "\tefficients = []\n",
    "\tfor ret in returns_range:\n",
    "\t\tefficients.append(efficient_return(mean_returns, cov_matrix, ret))\n",
    "\treturn efficients"
   ]
  },
  {
   "cell_type": "code",
   "execution_count": 238,
   "metadata": {},
   "outputs": [],
   "source": [
    "import random\n",
    "symbol = load_data()\n",
    "symbol_dict = dict(zip(symbol[\"Name\"], symbol[\"Symbol\"]))\n",
    "stocks = [random.choice(list(symbol_dict.keys())) for i in range(5)]\n",
    "stocks = [symbol_dict[i] for i in stocks]\n",
    "data = fetch_data(stocks)"
   ]
  },
  {
   "cell_type": "code",
   "execution_count": 239,
   "metadata": {},
   "outputs": [
    {
     "data": {
      "text/plain": [
       "['MHN', 'XOMAP', 'DAUG', 'PHAT', 'ETY']"
      ]
     },
     "execution_count": 239,
     "metadata": {},
     "output_type": "execute_result"
    }
   ],
   "source": [
    "stocks"
   ]
  },
  {
   "cell_type": "code",
   "execution_count": 240,
   "metadata": {},
   "outputs": [],
   "source": [
    "returns = data.pct_change()\n",
    "mean_returns = returns.mean()\n",
    "cov_matrix = returns.cov()\n",
    "risk_free_rate = 0.0178"
   ]
  },
  {
   "cell_type": "code",
   "execution_count": 241,
   "metadata": {},
   "outputs": [],
   "source": [
    "log_ret = np.log(data/data.shift(1))\n",
    "log_ret = log_ret.dropna()"
   ]
  },
  {
   "cell_type": "code",
   "execution_count": 242,
   "metadata": {},
   "outputs": [],
   "source": [
    "max_sharpe = max_sharpe_ratio(mean_returns, cov_matrix, risk_free_rate)\n",
    "sdp, rp = portfolio_annualized_performance(max_sharpe[\"x\"], mean_returns, cov_matrix)\n",
    "max_sharpe_allocation = pd.DataFrame(max_sharpe[\"x\"], index=data.columns, columns=[\"allocation\"])\n",
    "max_sharpe_allocation[\"allocation\"] = [round(i*100, 2)for i in max_sharpe_allocation[\"allocation\"]]\n",
    "max_sharpe_allocation = max_sharpe_allocation.T\n",
    "\n",
    "min_vol = min_variance(mean_returns, cov_matrix)\n",
    "sdp_min, rp_min = portfolio_annualized_performance(min_vol[\"x\"], mean_returns, cov_matrix)\n",
    "min_vol_allocation = pd.DataFrame(min_vol.x,index=data.columns,columns=[\"allocation\"])\n",
    "min_vol_allocation[\"allocation\"] = [round(i*100,2)for i in min_vol_allocation[\"allocation\"]]\n",
    "min_vol_allocation = min_vol_allocation.T\n",
    "\n",
    "an_vol = np.std(returns)*np.sqrt(252)\n",
    "an_rt = mean_returns*252"
   ]
  },
  {
   "cell_type": "code",
   "execution_count": 243,
   "metadata": {},
   "outputs": [],
   "source": [
    "min_kurt = min_kurtosis(cokurt(log_ret).mean(axis=1), cov_matrix)\n",
    "sdp_kurt, rp_kurt = portfolio_annualized_performance(min_kurt[\"x\"], cokurt(log_ret).mean(axis=1), cov_matrix)\n",
    "min_kurt_allocation = pd.DataFrame(min_kurt.x,index=data.columns,columns=[\"allocation\"])\n",
    "min_kurt_allocation[\"allocation\"] = [round(i*100,2)for i in min_kurt_allocation[\"allocation\"]]\n",
    "min_kurt_allocation = min_kurt_allocation.T"
   ]
  },
  {
   "cell_type": "code",
   "execution_count": 244,
   "metadata": {},
   "outputs": [],
   "source": [
    "max_skew = max_skewness(coskew(log_ret).mean(axis=1), cov_matrix)\n",
    "sdp_skew, rp_skew = portfolio_annualized_performance(max_skew[\"x\"], coskew(log_ret).mean(axis=1), cov_matrix)\n",
    "max_skew_allocation = pd.DataFrame(max_skew.x,index=data.columns,columns=[\"allocation\"])\n",
    "max_skew_allocation[\"allocation\"] = [round(i*100,2)for i in max_skew_allocation[\"allocation\"]]\n",
    "max_skew_allocation = max_skew_allocation.T"
   ]
  },
  {
   "cell_type": "code",
   "execution_count": 245,
   "metadata": {},
   "outputs": [
    {
     "data": {
      "text/html": [
       "<div>\n",
       "<style scoped>\n",
       "    .dataframe tbody tr th:only-of-type {\n",
       "        vertical-align: middle;\n",
       "    }\n",
       "\n",
       "    .dataframe tbody tr th {\n",
       "        vertical-align: top;\n",
       "    }\n",
       "\n",
       "    .dataframe thead th {\n",
       "        text-align: right;\n",
       "    }\n",
       "</style>\n",
       "<table border=\"1\" class=\"dataframe\">\n",
       "  <thead>\n",
       "    <tr style=\"text-align: right;\">\n",
       "      <th>Symbols</th>\n",
       "      <th>MHN</th>\n",
       "      <th>XOMAP</th>\n",
       "      <th>DAUG</th>\n",
       "      <th>PHAT</th>\n",
       "      <th>ETY</th>\n",
       "    </tr>\n",
       "  </thead>\n",
       "  <tbody>\n",
       "    <tr>\n",
       "      <th>allocation</th>\n",
       "      <td>30.34</td>\n",
       "      <td>13.5</td>\n",
       "      <td>56.16</td>\n",
       "      <td>0.0</td>\n",
       "      <td>0.0</td>\n",
       "    </tr>\n",
       "  </tbody>\n",
       "</table>\n",
       "</div>"
      ],
      "text/plain": [
       "Symbols       MHN  XOMAP   DAUG  PHAT  ETY\n",
       "allocation  30.34   13.5  56.16   0.0  0.0"
      ]
     },
     "execution_count": 245,
     "metadata": {},
     "output_type": "execute_result"
    }
   ],
   "source": [
    "min_kurt_allocation*0.5 + max_skew_allocation*0.5"
   ]
  },
  {
   "cell_type": "code",
   "execution_count": 246,
   "metadata": {},
   "outputs": [
    {
     "data": {
      "text/plain": [
       "(0.04482873531794769, 47.191181809517104)"
      ]
     },
     "execution_count": 246,
     "metadata": {},
     "output_type": "execute_result"
    }
   ],
   "source": [
    "(sdp_kurt+sdp_skew)/2, (rp_kurt+rp_skew)/2"
   ]
  },
  {
   "cell_type": "code",
   "execution_count": 212,
   "metadata": {},
   "outputs": [
    {
     "name": "stderr",
     "output_type": "stream",
     "text": [
      "c:\\users\\prabo\\appdata\\local\\programs\\python\\python37\\lib\\site-packages\\ipykernel_launcher.py:19: UserWarning: Matplotlib is currently using module://ipykernel.pylab.backend_inline, which is a non-GUI backend, so cannot show the figure.\n"
     ]
    },
    {
     "data": {
      "image/png": "[encoded data removed]",
      "text/plain": [
       "<Figure size 720x360 with 1 Axes>"
      ]
     },
     "metadata": {},
     "output_type": "display_data"
    }
   ],
   "source": [
    "fig, ax = plt.subplots(figsize=(10, 5))\n",
    "ax.scatter(an_vol, an_rt, marker=\"o\", color=\"#f8766d\", s=200)\n",
    "\n",
    "for i, txt in enumerate(data.columns):\n",
    "    ax.annotate(txt, (an_vol[i], an_rt[i]), xytext=(10, 0), textcoords=\"offset points\")\n",
    "\n",
    "ax.scatter(sdp, rp, marker=\"*\", color=\"#01b0f6\", s=500, label=\"Maximum Sharpe ratio\")\n",
    "ax.scatter(sdp_min, rp_min, marker=\"*\", color=\"#02bf7d\", s=500, label=\"Minimum volatility\")\n",
    "#ax.scatter((sdp_kurt+sdp_skew)/2, (rp_kurt+rp_skew)/2, marker=\"*\", color=\"#b97dd0\", s=500, label=\"Optimal higher moments\")\n",
    "\n",
    "#target = np.linspace(rp_min, 0.34, 50)\n",
    "#efficient_portfolios = efficient_frontier(mean_returns, cov_matrix, target)\n",
    "\n",
    "#ax.plot([pf[\"fun\"] for pf in efficient_portfolios], target, linestyle=\"-.\", color=\"black\", label=\"efficient frontier\")\n",
    "ax.set_title(\"Portfolio Optimization with Individual Stocks\")\n",
    "ax.set_xlabel(\"annualized volatility\")\n",
    "ax.set_ylabel(\"annualized returns\")\n",
    "ax.legend(labelspacing=0.8)\n",
    "fig.show()"
   ]
  },
  {
   "cell_type": "code",
   "execution_count": null,
   "metadata": {},
   "outputs": [],
   "source": []
  },
  {
   "cell_type": "code",
   "execution_count": null,
   "metadata": {},
   "outputs": [],
   "source": []
  }
 ],
 "metadata": {
  "kernelspec": {
   "display_name": "Python 3",
   "language": "python",
   "name": "python3"
  },
  "language_info": {
   "codemirror_mode": {
    "name": "ipython",
    "version": 3
   },
   "file_extension": ".py",
   "mimetype": "text/x-python",
   "name": "python",
   "nbconvert_exporter": "python",
   "pygments_lexer": "ipython3",
   "version": "3.7.7"
  }
 },
 "nbformat": 4,
 "nbformat_minor": 4
}
