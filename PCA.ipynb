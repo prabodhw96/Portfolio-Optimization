{
 "cells": [
  {
   "cell_type": "code",
   "execution_count": 1,
   "id": "15dff41a",
   "metadata": {},
   "outputs": [],
   "source": [
    "import numpy as np\n",
    "import pandas as pd\n",
    "import matplotlib.pyplot as plt\n",
    "plt.style.use(\"ggplot\")\n",
    "from pandas_datareader import data as pdr\n",
    "import yfinance as yf\n",
    "yf.pdr_override() # <== that's all it takes :-)\n",
    "from datetime import date, timedelta\n",
    "from scipy import stats\n",
    "import scipy.optimize as sco\n",
    "import random\n",
    "import warnings\n",
    "warnings.filterwarnings(\"ignore\")"
   ]
  },
  {
   "cell_type": "code",
   "execution_count": 2,
   "id": "cb5f5977",
   "metadata": {},
   "outputs": [],
   "source": [
    "symbol = pd.read_csv(\"nasdaq_stocks.csv\")\n",
    "symbol_dict = dict(zip(symbol[\"Name\"], symbol[\"Symbol\"]))\n",
    "#stocks = [\"Apple Inc.\", \"Amazon.com Inc.\", \"Alphabet Inc.\", \"Netflix Inc.\", \"Tesla Inc.\"]\n",
    "stocks = random.sample(list(symbol_dict.keys()), 10)\n",
    "stocks = [symbol_dict[i] for i in stocks]"
   ]
  },
  {
   "cell_type": "code",
   "execution_count": 3,
   "id": "c67f6917",
   "metadata": {},
   "outputs": [
    {
     "data": {
      "text/plain": [
       "['ALRS', 'DKL', 'KRNT', 'MTH', 'MYD', 'POOL', 'RSG']"
      ]
     },
     "execution_count": 3,
     "metadata": {},
     "output_type": "execute_result"
    }
   ],
   "source": [
    "stocks = ['ALRS', 'DKL', 'KRNT', 'MTH', 'MYD', 'POOL', 'RSG']\n",
    "stocks"
   ]
  },
  {
   "cell_type": "code",
   "execution_count": 4,
   "id": "eeef4e9b",
   "metadata": {},
   "outputs": [
    {
     "name": "stdout",
     "output_type": "stream",
     "text": [
      "[*********************100%***********************]  7 of 7 completed\n"
     ]
    }
   ],
   "source": [
    "data = pdr.get_data_yahoo(stocks, start=date.today()-timedelta(365*6), end=date.today()-timedelta(365))[\"Adj Close\"]"
   ]
  },
  {
   "cell_type": "code",
   "execution_count": 5,
   "id": "300dcb88",
   "metadata": {},
   "outputs": [
    {
     "data": {
      "text/plain": [
       "[]"
      ]
     },
     "execution_count": 5,
     "metadata": {},
     "output_type": "execute_result"
    }
   ],
   "source": [
    "list(set(data.columns) - set(data.dropna(axis=1).columns))"
   ]
  },
  {
   "cell_type": "code",
   "execution_count": 6,
   "id": "93f2c983",
   "metadata": {},
   "outputs": [],
   "source": [
    "data = data.dropna(axis=1)"
   ]
  },
  {
   "cell_type": "code",
   "execution_count": 7,
   "id": "979fbde7",
   "metadata": {},
   "outputs": [
    {
     "data": {
      "text/html": [
       "<div>\n",
       "<style scoped>\n",
       "    .dataframe tbody tr th:only-of-type {\n",
       "        vertical-align: middle;\n",
       "    }\n",
       "\n",
       "    .dataframe tbody tr th {\n",
       "        vertical-align: top;\n",
       "    }\n",
       "\n",
       "    .dataframe thead th {\n",
       "        text-align: right;\n",
       "    }\n",
       "</style>\n",
       "<table border=\"1\" class=\"dataframe\">\n",
       "  <thead>\n",
       "    <tr style=\"text-align: right;\">\n",
       "      <th></th>\n",
       "      <th>ALRS</th>\n",
       "      <th>DKL</th>\n",
       "      <th>KRNT</th>\n",
       "      <th>MTH</th>\n",
       "      <th>MYD</th>\n",
       "      <th>POOL</th>\n",
       "      <th>RSG</th>\n",
       "    </tr>\n",
       "    <tr>\n",
       "      <th>Date</th>\n",
       "      <th></th>\n",
       "      <th></th>\n",
       "      <th></th>\n",
       "      <th></th>\n",
       "      <th></th>\n",
       "      <th></th>\n",
       "      <th></th>\n",
       "    </tr>\n",
       "  </thead>\n",
       "  <tbody>\n",
       "    <tr>\n",
       "      <th>2016-09-07</th>\n",
       "      <td>14.999015</td>\n",
       "      <td>15.885189</td>\n",
       "      <td>10.650000</td>\n",
       "      <td>36.730000</td>\n",
       "      <td>11.761924</td>\n",
       "      <td>93.372391</td>\n",
       "      <td>45.354683</td>\n",
       "    </tr>\n",
       "    <tr>\n",
       "      <th>2016-09-08</th>\n",
       "      <td>14.999015</td>\n",
       "      <td>15.320214</td>\n",
       "      <td>10.420000</td>\n",
       "      <td>36.369999</td>\n",
       "      <td>11.776618</td>\n",
       "      <td>92.233963</td>\n",
       "      <td>45.408276</td>\n",
       "    </tr>\n",
       "    <tr>\n",
       "      <th>2016-09-09</th>\n",
       "      <td>14.852814</td>\n",
       "      <td>15.089833</td>\n",
       "      <td>9.890000</td>\n",
       "      <td>34.720001</td>\n",
       "      <td>11.673762</td>\n",
       "      <td>89.364288</td>\n",
       "      <td>44.237999</td>\n",
       "    </tr>\n",
       "    <tr>\n",
       "      <th>2016-09-12</th>\n",
       "      <td>14.852814</td>\n",
       "      <td>15.457346</td>\n",
       "      <td>9.390000</td>\n",
       "      <td>35.410000</td>\n",
       "      <td>11.644375</td>\n",
       "      <td>90.004105</td>\n",
       "      <td>44.908001</td>\n",
       "    </tr>\n",
       "    <tr>\n",
       "      <th>2016-09-13</th>\n",
       "      <td>14.852814</td>\n",
       "      <td>15.479283</td>\n",
       "      <td>9.510000</td>\n",
       "      <td>34.250000</td>\n",
       "      <td>11.579431</td>\n",
       "      <td>88.498688</td>\n",
       "      <td>44.631069</td>\n",
       "    </tr>\n",
       "    <tr>\n",
       "      <th>...</th>\n",
       "      <td>...</td>\n",
       "      <td>...</td>\n",
       "      <td>...</td>\n",
       "      <td>...</td>\n",
       "      <td>...</td>\n",
       "      <td>...</td>\n",
       "      <td>...</td>\n",
       "    </tr>\n",
       "    <tr>\n",
       "      <th>2021-08-30</th>\n",
       "      <td>28.999748</td>\n",
       "      <td>39.221645</td>\n",
       "      <td>131.740005</td>\n",
       "      <td>112.260002</td>\n",
       "      <td>14.593676</td>\n",
       "      <td>487.242645</td>\n",
       "      <td>122.536530</td>\n",
       "    </tr>\n",
       "    <tr>\n",
       "      <th>2021-08-31</th>\n",
       "      <td>29.136354</td>\n",
       "      <td>39.979820</td>\n",
       "      <td>130.369995</td>\n",
       "      <td>111.540001</td>\n",
       "      <td>14.555598</td>\n",
       "      <td>490.088226</td>\n",
       "      <td>122.398476</td>\n",
       "    </tr>\n",
       "    <tr>\n",
       "      <th>2021-09-01</th>\n",
       "      <td>28.472836</td>\n",
       "      <td>39.526764</td>\n",
       "      <td>129.800003</td>\n",
       "      <td>113.930000</td>\n",
       "      <td>14.584155</td>\n",
       "      <td>487.044403</td>\n",
       "      <td>123.078850</td>\n",
       "    </tr>\n",
       "    <tr>\n",
       "      <th>2021-09-02</th>\n",
       "      <td>28.287437</td>\n",
       "      <td>40.321922</td>\n",
       "      <td>133.529999</td>\n",
       "      <td>111.459999</td>\n",
       "      <td>14.650793</td>\n",
       "      <td>493.023010</td>\n",
       "      <td>124.340996</td>\n",
       "    </tr>\n",
       "    <tr>\n",
       "      <th>2021-09-03</th>\n",
       "      <td>27.906889</td>\n",
       "      <td>40.469860</td>\n",
       "      <td>136.369995</td>\n",
       "      <td>108.650002</td>\n",
       "      <td>14.650793</td>\n",
       "      <td>492.656158</td>\n",
       "      <td>123.719788</td>\n",
       "    </tr>\n",
       "  </tbody>\n",
       "</table>\n",
       "<p>1258 rows × 7 columns</p>\n",
       "</div>"
      ],
      "text/plain": [
       "                 ALRS        DKL        KRNT         MTH        MYD  \\\n",
       "Date                                                                  \n",
       "2016-09-07  14.999015  15.885189   10.650000   36.730000  11.761924   \n",
       "2016-09-08  14.999015  15.320214   10.420000   36.369999  11.776618   \n",
       "2016-09-09  14.852814  15.089833    9.890000   34.720001  11.673762   \n",
       "2016-09-12  14.852814  15.457346    9.390000   35.410000  11.644375   \n",
       "2016-09-13  14.852814  15.479283    9.510000   34.250000  11.579431   \n",
       "...               ...        ...         ...         ...        ...   \n",
       "2021-08-30  28.999748  39.221645  131.740005  112.260002  14.593676   \n",
       "2021-08-31  29.136354  39.979820  130.369995  111.540001  14.555598   \n",
       "2021-09-01  28.472836  39.526764  129.800003  113.930000  14.584155   \n",
       "2021-09-02  28.287437  40.321922  133.529999  111.459999  14.650793   \n",
       "2021-09-03  27.906889  40.469860  136.369995  108.650002  14.650793   \n",
       "\n",
       "                  POOL         RSG  \n",
       "Date                                \n",
       "2016-09-07   93.372391   45.354683  \n",
       "2016-09-08   92.233963   45.408276  \n",
       "2016-09-09   89.364288   44.237999  \n",
       "2016-09-12   90.004105   44.908001  \n",
       "2016-09-13   88.498688   44.631069  \n",
       "...                ...         ...  \n",
       "2021-08-30  487.242645  122.536530  \n",
       "2021-08-31  490.088226  122.398476  \n",
       "2021-09-01  487.044403  123.078850  \n",
       "2021-09-02  493.023010  124.340996  \n",
       "2021-09-03  492.656158  123.719788  \n",
       "\n",
       "[1258 rows x 7 columns]"
      ]
     },
     "execution_count": 7,
     "metadata": {},
     "output_type": "execute_result"
    }
   ],
   "source": [
    "data"
   ]
  },
  {
   "cell_type": "code",
   "execution_count": 8,
   "id": "a1d061b9",
   "metadata": {},
   "outputs": [],
   "source": [
    "from sklearn.decomposition import PCA"
   ]
  },
  {
   "cell_type": "code",
   "execution_count": 9,
   "id": "6761d6f0",
   "metadata": {},
   "outputs": [],
   "source": [
    "rs = data.apply(np.log).diff(1)\n",
    "pca = PCA(1).fit(rs.fillna(0))\n",
    "pc1 = pd.Series(index=rs.columns, data=pca.components_[0])"
   ]
  },
  {
   "cell_type": "code",
   "execution_count": 10,
   "id": "43071521",
   "metadata": {},
   "outputs": [
    {
     "data": {
      "image/png": "[encoded data removed]",
      "text/plain": [
       "<Figure size 720x432 with 2 Axes>"
      ]
     },
     "metadata": {
      "needs_background": "light"
     },
     "output_type": "display_data"
    }
   ],
   "source": [
    "fig, ax = plt.subplots(2,1, figsize=(10,6))\n",
    "pc1.nsmallest().plot.bar(ax=ax[0], color='green', grid=True, title='Stocks with Most Negative PCA Weights')\n",
    "pc1.nlargest().plot.bar(ax=ax[1], color='blue', grid=True, title='Stocks with Least Negative PCA Weights')\n",
    "\n",
    "plt.tight_layout()\n",
    "plt.show()"
   ]
  },
  {
   "cell_type": "code",
   "execution_count": 11,
   "id": "e871be68",
   "metadata": {},
   "outputs": [
    {
     "data": {
      "text/plain": [
       "MYD    -0.105269\n",
       "ALRS   -0.140294\n",
       "RSG    -0.171736\n",
       "POOL   -0.208932\n",
       "KRNT   -0.492101\n",
       "dtype: float64"
      ]
     },
     "execution_count": 11,
     "metadata": {},
     "output_type": "execute_result"
    }
   ],
   "source": [
    "pc1.nlargest()[pc1.nlargest()/pc1.nlargest().sum() * 100 <=50]"
   ]
  },
  {
   "cell_type": "code",
   "execution_count": null,
   "id": "aa7304dd",
   "metadata": {},
   "outputs": [],
   "source": []
  }
 ],
 "metadata": {
  "kernelspec": {
   "display_name": "Python 3 (ipykernel)",
   "language": "python",
   "name": "python3"
  },
  "language_info": {
   "codemirror_mode": {
    "name": "ipython",
    "version": 3
   },
   "file_extension": ".py",
   "mimetype": "text/x-python",
   "name": "python",
   "nbconvert_exporter": "python",
   "pygments_lexer": "ipython3",
   "version": "3.8.10"
  }
 },
 "nbformat": 4,
 "nbformat_minor": 5
}
